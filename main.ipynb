{
 "cells": [
  {
   "cell_type": "code",
   "execution_count": 5,
   "metadata": {
    "notebookRunGroups": {
     "groupValue": "1"
    }
   },
   "outputs": [],
   "source": [
    "import pandas as pd\n",
    "from collections import defaultdict\n",
    "from copy import deepcopy"
   ]
  },
  {
   "cell_type": "code",
   "execution_count": 2,
   "metadata": {
    "notebookRunGroups": {
     "groupValue": "1"
    }
   },
   "outputs": [],
   "source": [
    "from util.types import Side\n",
    "\n",
    "from market_engine.order import Order, LimitOrder, MarketOrder\n",
    "from market_engine.order_book import OrderBook\n",
    "from market_engine.data_oracle import DataOracle\n",
    "\n",
    "from agents.agent import Agent\n",
    "from agents.exchange_agent import ExchangeAgent\n",
    "\n",
    "from kernel import Kernel\n",
    "\n",
    "%load_ext autoreload\n",
    "%autoreload 2"
   ]
  },
  {
   "cell_type": "markdown",
   "metadata": {},
   "source": [
    "### Test"
   ]
  },
  {
   "cell_type": "code",
   "execution_count": 9,
   "metadata": {},
   "outputs": [],
   "source": [
    "random_state = 7\n",
    "\n",
    "# About the data and the order book\n",
    "data = pd.read_csv(\"data\\BTC-USDT.SPOTBinance.top500bidask.csv\")\n",
    "oracle = DataOracle(data, \"BTC\")\n",
    "oracle.read_data()\n",
    "\n",
    "# About the exchange agent \n",
    "exchange_agent = ExchangeAgent(\"exchange_agent\", \"BTC\", random_state)\n",
    "\n",
    "# about the kernel\n",
    "kernel = Kernel(random_state, \"test4.log\")\n",
    "kernel.run(oracle, exchange_agent)"
   ]
  },
  {
   "cell_type": "markdown",
   "metadata": {},
   "source": [
    "### Kernel"
   ]
  },
  {
   "cell_type": "markdown",
   "metadata": {},
   "source": [
    "### Agents"
   ]
  },
  {
   "cell_type": "code",
   "execution_count": 5,
   "metadata": {},
   "outputs": [],
   "source": [
    "class TradingAgent(Agent):\n",
    "    \n",
    "    def __init__(self, id:str, random_state:str, starting_cash=100000, log_to_file:bool=False):\n",
    "        super().__init__(id, random_state, log_to_file)\n",
    "        \n",
    "        # Agent internal \n",
    "        self._order = {}\n",
    "        self._starting_cash = starting_cash\n",
    "        self._cash_balance = starting_cash\n",
    "        self._current_positions = defaultdict(int)\n",
    "    \n",
    "    # Lyfecycle methods \n",
    "    def kernel_start(self, start_time):\n",
    "        # find an exchange with which we can place orders\n",
    "        self.exchange_id = self.kernel.get_id_exchange()\n",
    "        super().kernel_start(start_time)\n",
    "    \n",
    "    def kernel_stop(self):\n",
    "        super().kernel_stop()\n",
    "        \n",
    "        # compute final result\n",
    "        #\n",
    "    \n",
    "    def send_message(self, recipient_id, msg, delay=0):\n",
    "        return super().send_message(recipient_id, msg, delay)\n",
    "    \n",
    "    def receive_message(self, current_time, msg):\n",
    "       return super().receive_message(current_time, msg)\n",
    "    \n",
    "    def place_limit_order(self, symbol:str, quantity:int, side:Side, limit_price:int):\n",
    "        order = LimitOrder(self.id, self.current_time, symbol, quantity, side, limit_price)\n",
    "        \n",
    "        #quantity = order.quantity if order.side == Side.BUY else -order.quantity\n",
    "        #self._current_positions[symbol] += quantity\n",
    "        self._orders[order.order_id] = deepcopy(order)\n",
    "        \n",
    "        ### message to exchange ###\n",
    "    \n",
    "    def place_market_order(self, symbol:str, quantity:int, side:Side): \n",
    "        order = MarketOrder(self.id, self.current_time, symbol, quantity, side) \n",
    "        \n",
    "        #quantity = order.quantity if order.side == Side.BUY else -order.quantity\n",
    "        #self._current_positions[symbol] += quantity\n",
    "        self._orders[order.order_id] = deepcopy(order)\n",
    "        \n",
    "        ### message to exchange ###"
   ]
  },
  {
   "cell_type": "code",
   "execution_count": null,
   "metadata": {},
   "outputs": [],
   "source": [
    "\n",
    "    \n"
   ]
  },
  {
   "cell_type": "markdown",
   "metadata": {},
   "source": [
    "### DataOracle"
   ]
  },
  {
   "cell_type": "code",
   "execution_count": 6,
   "metadata": {},
   "outputs": [],
   "source": [
    "\n",
    "\n",
    "timestamps = oracle.get_timestamps()\n",
    "for timestamp in timestamps:\n",
    "    orders = oracle.get_orders(timestamp)\n",
    "    for order in orders:\n",
    "        order_book.send_order(order)\n",
    "\n",
    "    "
   ]
  },
  {
   "cell_type": "code",
   "execution_count": 24,
   "metadata": {},
   "outputs": [],
   "source": [
    "data = pd.read_csv(\"data/BTC-USDT.SPOTBinance.top100bidask.csv\")\n",
    "oracle = DataOracle(data, \"BTC\")\n",
    "oracle.get_timestamps()"
   ]
  },
  {
   "cell_type": "markdown",
   "metadata": {},
   "source": [
    "### Kernel"
   ]
  },
  {
   "cell_type": "code",
   "execution_count": null,
   "metadata": {},
   "outputs": [
    {
     "ename": "NameError",
     "evalue": "name 'TradingAgent' is not defined",
     "output_type": "error",
     "traceback": [
      "\u001b[1;31m---------------------------------------------------------------------------\u001b[0m",
      "\u001b[1;31mNameError\u001b[0m                                 Traceback (most recent call last)",
      "Input \u001b[1;32mIn [6]\u001b[0m, in \u001b[0;36m<cell line: 1>\u001b[1;34m()\u001b[0m\n\u001b[1;32m----> 1\u001b[0m \u001b[38;5;28;01mclass\u001b[39;00m \u001b[38;5;21;01mKernel\u001b[39;00m:\n\u001b[0;32m      2\u001b[0m     \u001b[38;5;28;01mdef\u001b[39;00m \u001b[38;5;21m__init__\u001b[39m(\u001b[38;5;28mself\u001b[39m, path_data:\u001b[38;5;28mstr\u001b[39m, random_state \u001b[38;5;241m=\u001b[39m \u001b[38;5;28;01mNone\u001b[39;00m):\n\u001b[0;32m      3\u001b[0m         \u001b[38;5;28mself\u001b[39m\u001b[38;5;241m.\u001b[39mrandom\n",
      "Input \u001b[1;32mIn [6]\u001b[0m, in \u001b[0;36mKernel\u001b[1;34m()\u001b[0m\n\u001b[0;32m      2\u001b[0m \u001b[38;5;28;01mdef\u001b[39;00m \u001b[38;5;21m__init__\u001b[39m(\u001b[38;5;28mself\u001b[39m, path_data:\u001b[38;5;28mstr\u001b[39m, random_state \u001b[38;5;241m=\u001b[39m \u001b[38;5;28;01mNone\u001b[39;00m):\n\u001b[0;32m      3\u001b[0m     \u001b[38;5;28mself\u001b[39m\u001b[38;5;241m.\u001b[39mrandom\n\u001b[1;32m----> 6\u001b[0m \u001b[38;5;28;01mdef\u001b[39;00m \u001b[38;5;21mrun\u001b[39m(\u001b[38;5;28mself\u001b[39m, oracle:DataOracle, agent:\u001b[43mTradingAgent\u001b[49m):\n\u001b[0;32m      7\u001b[0m        \n\u001b[0;32m      8\u001b[0m     \u001b[38;5;66;03m# Initialize data oracle that feed market data\u001b[39;00m\n\u001b[0;32m      9\u001b[0m     \u001b[38;5;28mself\u001b[39m\u001b[38;5;241m.\u001b[39moracle \u001b[38;5;241m=\u001b[39m oracle\n\u001b[0;32m     10\u001b[0m     \u001b[38;5;28mself\u001b[39m\u001b[38;5;241m.\u001b[39moracle\u001b[38;5;241m.\u001b[39mkernel_init()\n",
      "\u001b[1;31mNameError\u001b[0m: name 'TradingAgent' is not defined"
     ]
    }
   ],
   "source": []
  }
 ],
 "metadata": {
  "kernelspec": {
   "display_name": "Python 3",
   "language": "python",
   "name": "python3"
  },
  "language_info": {
   "codemirror_mode": {
    "name": "ipython",
    "version": 3
   },
   "file_extension": ".py",
   "mimetype": "text/x-python",
   "name": "python",
   "nbconvert_exporter": "python",
   "pygments_lexer": "ipython3",
   "version": "3.9.13"
  }
 },
 "nbformat": 4,
 "nbformat_minor": 2
}
