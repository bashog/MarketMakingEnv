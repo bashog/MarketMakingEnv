{
 "cells": [
  {
   "cell_type": "code",
   "execution_count": 4,
   "metadata": {
    "notebookRunGroups": {
     "groupValue": "1"
    }
   },
   "outputs": [],
   "source": [
    "import pandas as pd\n",
    "from collections import defaultdict\n",
    "from copy import deepcopy\n",
    "import random"
   ]
  },
  {
   "cell_type": "code",
   "execution_count": 6,
   "metadata": {
    "notebookRunGroups": {
     "groupValue": "1"
    }
   },
   "outputs": [],
   "source": [
    "from util.types import Side\n",
    "\n",
    "from market_engine.order import Order, LimitOrder, MarketOrder\n",
    "from market_engine.order_book import OrderBook\n",
    "from market_engine.data_oracle import DataOracle\n",
    "\n",
    "from agents.agent import Agent\n",
    "from agents.exchange_agent import ExchangeAgent\n",
    "from agents.trading_agent import TradingAgent\n",
    "\n",
    "from kernel import Kernel\n",
    "\n",
    "%load_ext autoreload\n",
    "%autoreload 2"
   ]
  },
  {
   "cell_type": "markdown",
   "metadata": {},
   "source": [
    "### Initialisation"
   ]
  },
  {
   "cell_type": "code",
   "execution_count": 29,
   "metadata": {},
   "outputs": [
    {
     "ename": "KeyError",
     "evalue": "<MessageType.REQUEST_MARKET_DATA: 'REQUEST_MARKET_DATA'>",
     "output_type": "error",
     "traceback": [
      "\u001b[1;31m---------------------------------------------------------------------------\u001b[0m",
      "\u001b[1;31mKeyError\u001b[0m                                  Traceback (most recent call last)",
      "Input \u001b[1;32mIn [29]\u001b[0m, in \u001b[0;36m<cell line: 17>\u001b[1;34m()\u001b[0m\n\u001b[0;32m     15\u001b[0m \u001b[38;5;66;03m# about the kernel\u001b[39;00m\n\u001b[0;32m     16\u001b[0m kernel \u001b[38;5;241m=\u001b[39m Kernel(\u001b[38;5;124m\"\u001b[39m\u001b[38;5;124mtest1.log\u001b[39m\u001b[38;5;124m\"\u001b[39m)\n\u001b[1;32m---> 17\u001b[0m \u001b[43mkernel\u001b[49m\u001b[38;5;241;43m.\u001b[39;49m\u001b[43mrun\u001b[49m\u001b[43m(\u001b[49m\u001b[43moracle\u001b[49m\u001b[43m,\u001b[49m\u001b[43m \u001b[49m\u001b[43mexchange_agent\u001b[49m\u001b[43m,\u001b[49m\u001b[43m \u001b[49m\u001b[43mtrading_agent\u001b[49m\u001b[43m)\u001b[49m\n",
      "File \u001b[1;32mc:\\Users\\basho\\iCloudDrive\\M2MO\\Machine Learning for Finance\\MarketMakingDeepRL\\kernel.py:66\u001b[0m, in \u001b[0;36mKernel.run\u001b[1;34m(self, oracle, exchange_agent, trading_agent)\u001b[0m\n\u001b[0;32m     64\u001b[0m \u001b[38;5;66;03m# Main loop\u001b[39;00m\n\u001b[0;32m     65\u001b[0m \u001b[38;5;28;01mwhile\u001b[39;00m \u001b[38;5;28mself\u001b[39m\u001b[38;5;241m.\u001b[39m_current_time \u001b[38;5;241m<\u001b[39m\u001b[38;5;241m=\u001b[39m \u001b[38;5;28mself\u001b[39m\u001b[38;5;241m.\u001b[39m_end_time:\n\u001b[1;32m---> 66\u001b[0m     \u001b[38;5;28;43mself\u001b[39;49m\u001b[38;5;241;43m.\u001b[39;49m\u001b[43mprocess_messages\u001b[49m\u001b[43m(\u001b[49m\u001b[43m)\u001b[49m\n\u001b[0;32m     67\u001b[0m     \u001b[38;5;66;03m# This part to be improved to have autonomous agents\u001b[39;00m\n\u001b[0;32m     68\u001b[0m     \u001b[38;5;28;01mif\u001b[39;00m \u001b[38;5;28mself\u001b[39m\u001b[38;5;241m.\u001b[39m_current_time \u001b[38;5;241m>\u001b[39m\u001b[38;5;241m=\u001b[39m \u001b[38;5;28mself\u001b[39m\u001b[38;5;241m.\u001b[39m_next_analytics_time:\n",
      "File \u001b[1;32mc:\\Users\\basho\\iCloudDrive\\M2MO\\Machine Learning for Finance\\MarketMakingDeepRL\\kernel.py:83\u001b[0m, in \u001b[0;36mKernel.process_messages\u001b[1;34m(self)\u001b[0m\n\u001b[0;32m     81\u001b[0m message_time, (sender, recipient, message) \u001b[38;5;241m=\u001b[39m \u001b[38;5;28mself\u001b[39m\u001b[38;5;241m.\u001b[39m_messages\u001b[38;5;241m.\u001b[39mget()\n\u001b[0;32m     82\u001b[0m \u001b[38;5;28;01mif\u001b[39;00m message_time \u001b[38;5;241m<\u001b[39m\u001b[38;5;241m=\u001b[39m \u001b[38;5;28mself\u001b[39m\u001b[38;5;241m.\u001b[39m_current_time:\n\u001b[1;32m---> 83\u001b[0m     \u001b[38;5;28;43mself\u001b[39;49m\u001b[38;5;241;43m.\u001b[39;49m\u001b[43m_agents\u001b[49m\u001b[43m[\u001b[49m\u001b[43mrecipient\u001b[49m\u001b[43m]\u001b[49m\u001b[38;5;241m.\u001b[39mreceive_message(\u001b[38;5;28mself\u001b[39m\u001b[38;5;241m.\u001b[39m_current_time, message)\n\u001b[0;32m     84\u001b[0m \u001b[38;5;28;01melse\u001b[39;00m:\n\u001b[0;32m     85\u001b[0m     \u001b[38;5;28mself\u001b[39m\u001b[38;5;241m.\u001b[39m_messages\u001b[38;5;241m.\u001b[39mput((message_time, (sender, recipient, message)))\n",
      "\u001b[1;31mKeyError\u001b[0m: <MessageType.REQUEST_MARKET_DATA: 'REQUEST_MARKET_DATA'>"
     ]
    }
   ],
   "source": [
    "random_seed= 7\n",
    "random.seed(random_seed)\n",
    "\n",
    "# About the data and the order book\n",
    "data = pd.read_csv(\"data\\BTC-USDT.SPOTBinance.top10bidask.csv\")\n",
    "oracle = DataOracle(data, \"BTC\")\n",
    "oracle.read_data()\n",
    "\n",
    "# About the exchange agent \n",
    "exchange_agent = ExchangeAgent(\"exchange_agent\", \"BTC\")\n",
    "\n",
    "# about the trading agent\n",
    "trading_agent = TradingAgent(\"trading_agent\")\n",
    "\n",
    "# about the kernel\n",
    "kernel = Kernel(\"test1.log\")\n",
    "kernel.run(oracle, exchange_agent, trading_agent)"
   ]
  }
 ],
 "metadata": {
  "kernelspec": {
   "display_name": "Python 3",
   "language": "python",
   "name": "python3"
  },
  "language_info": {
   "codemirror_mode": {
    "name": "ipython",
    "version": 3
   },
   "file_extension": ".py",
   "mimetype": "text/x-python",
   "name": "python",
   "nbconvert_exporter": "python",
   "pygments_lexer": "ipython3",
   "version": "3.9.13"
  }
 },
 "nbformat": 4,
 "nbformat_minor": 2
}
