{
 "cells": [
  {
   "cell_type": "code",
   "execution_count": 4,
   "metadata": {
    "notebookRunGroups": {
     "groupValue": "1"
    }
   },
   "outputs": [
    {
     "name": "stdout",
     "output_type": "stream",
     "text": [
      "The autoreload extension is already loaded. To reload it, use:\n",
      "  %reload_ext autoreload\n"
     ]
    }
   ],
   "source": [
    "import pandas as pd\n",
    "from collections import defaultdict\n",
    "from copy import deepcopy\n",
    "import random\n",
    "\n",
    "from util.types import Side\n",
    "\n",
    "from market_engine.order import Order, LimitOrder, MarketOrder\n",
    "from market_engine.order_book import OrderBook\n",
    "from market_engine.data_oracle import DataOracle\n",
    "\n",
    "from agents.agent import Agent\n",
    "from agents.exchange_agent import ExchangeAgent\n",
    "from agents.trading_agent import TradingAgent\n",
    "from agents.dummy_trader import DummyTrader\n",
    "\n",
    "from kernel import Kernel\n",
    "\n",
    "%load_ext autoreload\n",
    "%autoreload 2"
   ]
  },
  {
   "cell_type": "code",
   "execution_count": 12,
   "metadata": {},
   "outputs": [],
   "source": [
    "random_seed= 71\n",
    "random.seed(random_seed)\n",
    "\n",
    "# About the data and the order book\n",
    "data = pd.read_csv(\"data\\BTC-USDT.SPOTBinance.top10bidask.csv\")\n",
    "oracle = DataOracle(data, \"BTC\")\n",
    "oracle.read_data()\n",
    "\n",
    "# About the exchange agent \n",
    "exchange_agent = ExchangeAgent(\"exchange_agent\", \"BTC\")\n",
    "\n",
    "# about the trading agent\n",
    "#trading_agent = TradingAgent(\"trading_agent\")\n",
    "trading_agent = DummyTrader(\"dummy_agent\")\n",
    "\n",
    "# about the kernel\n",
    "log_name = \"test0.log\"\n",
    "kernel = Kernel(log_name)\n",
    "kernel.run(oracle, exchange_agent, trading_agent)"
   ]
  }
 ],
 "metadata": {
  "kernelspec": {
   "display_name": "Python 3",
   "language": "python",
   "name": "python3"
  },
  "language_info": {
   "codemirror_mode": {
    "name": "ipython",
    "version": 3
   },
   "file_extension": ".py",
   "mimetype": "text/x-python",
   "name": "python",
   "nbconvert_exporter": "python",
   "pygments_lexer": "ipython3",
   "version": "3.8.5"
  }
 },
 "nbformat": 4,
 "nbformat_minor": 2
}
